{
 "cells": [
  {
   "cell_type": "code",
   "execution_count": 1,
   "metadata": {
    "ExecuteTime": {
     "end_time": "2020-11-27T13:28:39.959640Z",
     "start_time": "2020-11-27T13:28:39.951645Z"
    }
   },
   "outputs": [],
   "source": [
    "import pyttsx3"
   ]
  },
  {
   "cell_type": "code",
   "execution_count": 2,
   "metadata": {
    "ExecuteTime": {
     "end_time": "2020-11-27T13:31:37.161258Z",
     "start_time": "2020-11-27T13:31:36.665290Z"
    }
   },
   "outputs": [],
   "source": [
    "engine = pyttsx3.init()"
   ]
  },
  {
   "cell_type": "code",
   "execution_count": 3,
   "metadata": {
    "ExecuteTime": {
     "end_time": "2020-11-27T13:31:41.145537Z",
     "start_time": "2020-11-27T13:31:41.129523Z"
    }
   },
   "outputs": [],
   "source": [
    "def audio(vol,speed,gender,text):\n",
    "    if 0<=vol and vol<=1:\n",
    "        volume = engine.getProperty('volume')   \n",
    "        print (volume)                          \n",
    "        engine.setProperty('volume',vol)    \n",
    "    else: return \"Provide volume, min=0 to max=1\"\n",
    "    rate = engine.getProperty('rate')   \n",
    "    print (rate)                        \n",
    "    engine.setProperty('rate', speed)     \n",
    "    voices = engine.getProperty('voices')      \n",
    "    if(gender=='male'):\n",
    "        engine.setProperty('voice', voices[0].id)  \n",
    "        \n",
    "    elif(gender=='female'):\n",
    "        engine.setProperty('voice', voices[1].id)   \n",
    "    else: return \"Give a proper gender, male or female\"\n",
    "    engine.say(text)\n",
    "    \n",
    "    return engine.runAndWait()"
   ]
  },
  {
   "cell_type": "code",
   "execution_count": 4,
   "metadata": {
    "ExecuteTime": {
     "end_time": "2020-11-27T13:31:50.785989Z",
     "start_time": "2020-11-27T13:31:44.898176Z"
    }
   },
   "outputs": [
    {
     "name": "stdout",
     "output_type": "stream",
     "text": [
      "1.0\n",
      "200.0\n"
     ]
    }
   ],
   "source": [
    "audio(0.8,150,'male','''Hello Big Pig. How are you?''')"
   ]
  },
  {
   "cell_type": "code",
   "execution_count": null,
   "metadata": {},
   "outputs": [],
   "source": []
  }
 ],
 "metadata": {
  "kernelspec": {
   "display_name": "Python 3",
   "language": "python",
   "name": "python3"
  },
  "language_info": {
   "codemirror_mode": {
    "name": "ipython",
    "version": 3
   },
   "file_extension": ".py",
   "mimetype": "text/x-python",
   "name": "python",
   "nbconvert_exporter": "python",
   "pygments_lexer": "ipython3",
   "version": "3.9.6"
  },
  "toc": {
   "base_numbering": 1,
   "nav_menu": {},
   "number_sections": true,
   "sideBar": true,
   "skip_h1_title": false,
   "title_cell": "Table of Contents",
   "title_sidebar": "Contents",
   "toc_cell": false,
   "toc_position": {},
   "toc_section_display": true,
   "toc_window_display": false
  },
  "varInspector": {
   "cols": {
    "lenName": 16,
    "lenType": 16,
    "lenVar": 40
   },
   "kernels_config": {
    "python": {
     "delete_cmd_postfix": "",
     "delete_cmd_prefix": "del ",
     "library": "var_list.py",
     "varRefreshCmd": "print(var_dic_list())"
    },
    "r": {
     "delete_cmd_postfix": ") ",
     "delete_cmd_prefix": "rm(",
     "library": "var_list.r",
     "varRefreshCmd": "cat(var_dic_list()) "
    }
   },
   "types_to_exclude": [
    "module",
    "function",
    "builtin_function_or_method",
    "instance",
    "_Feature"
   ],
   "window_display": false
  }
 },
 "nbformat": 4,
 "nbformat_minor": 4
}
