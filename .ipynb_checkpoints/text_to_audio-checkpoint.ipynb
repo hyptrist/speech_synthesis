{
 "cells": [
  {
   "cell_type": "code",
   "execution_count": 3,
   "metadata": {},
   "outputs": [],
   "source": [
    "from gtts import gTTS\n",
    "import os"
   ]
  },
  {
   "cell_type": "code",
   "execution_count": 4,
   "metadata": {},
   "outputs": [],
   "source": [
    "alpha=gTTS(text='hello apka kya hal hai',lang='hi')"
   ]
  },
  {
   "cell_type": "code",
   "execution_count": 5,
   "metadata": {},
   "outputs": [],
   "source": [
    "alpha.save('x.mp3')"
   ]
  },
  {
   "cell_type": "code",
   "execution_count": 6,
   "metadata": {},
   "outputs": [],
   "source": [
    "song=gTTS(text='''\n",
    "First things first\n",
    "I'ma say all the words inside my head\n",
    "I'm fired up and tired of the way that things have been, oh-ooh\n",
    "The way that things have been, oh-ooh\n",
    "Second thing second\n",
    "Don't you tell me what you think that I could be\n",
    "I'm the one at the sail, I'm the master of my sea, oh-ooh\n",
    "The master of my sea, oh-ooh\n",
    "I was broken from a young age\n",
    "Taking my sulking to the masses\n",
    "Writing my poems for the few\n",
    "That look at me, took to me, shook to me, feeling me\n",
    "Singing from heartache from the pain\n",
    "Taking my message from the veins\n",
    "Speaking my lesson from the brain\n",
    "Seeing the beauty through the...\n",
    "Pain!\n",
    "You made me a, you made me a believer, believer\n",
    "Pain!\n",
    "You break me down and build me up, believer, believer\n",
    "Pain!\n",
    "Oh, let the bullets fly, oh, let them rain\n",
    "My life, my…''', lang='en')\n",
    "song.save('x2.mp3')    "
   ]
  },
  {
   "cell_type": "code",
   "execution_count": 7,
   "metadata": {},
   "outputs": [],
   "source": [
    "def text_to_audi(address,text1,language,tld):\n",
    "    first=gTTS(text=text1,lang=language,tld=tld) \n",
    "    second=first.save(address+'.mp3') # in address pass 'C:\\\\Users\\\\Shreya Singh\\\\Desktop\\\\song'\n",
    "    return second"
   ]
  },
  {
   "cell_type": "code",
   "execution_count": 8,
   "metadata": {},
   "outputs": [],
   "source": [
    "text_to_audi('song1','Going to hospital. Urgently require leave.','en','com')"
   ]
  },
  {
   "cell_type": "code",
   "execution_count": 9,
   "metadata": {},
   "outputs": [],
   "source": [
    "alpha1 = gTTS(text=\"नमस्कार अविजीत आपका आर्डर बैंगलोर पहुँच गया है\",lang='hi')"
   ]
  },
  {
   "cell_type": "code",
   "execution_count": 10,
   "metadata": {},
   "outputs": [],
   "source": [
    "alpha1.save('xn.mp3')"
   ]
  },
  {
   "cell_type": "code",
   "execution_count": null,
   "metadata": {},
   "outputs": [],
   "source": []
  }
 ],
 "metadata": {
  "kernelspec": {
   "display_name": "Python 3 (ipykernel)",
   "language": "python",
   "name": "python3"
  },
  "language_info": {
   "codemirror_mode": {
    "name": "ipython",
    "version": 3
   },
   "file_extension": ".py",
   "mimetype": "text/x-python",
   "name": "python",
   "nbconvert_exporter": "python",
   "pygments_lexer": "ipython3",
   "version": "3.9.13"
  }
 },
 "nbformat": 4,
 "nbformat_minor": 4
}
